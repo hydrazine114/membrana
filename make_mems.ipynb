{
 "cells": [
  {
   "cell_type": "code",
   "execution_count": 2,
   "id": "0abd3765-ee01-43eb-8399-338b5cc6c932",
   "metadata": {},
   "outputs": [],
   "source": [
    "import numpy as np\n",
    "import pandas as pd\n",
    "import numpy as np\n",
    "from scipy.spatial.transform import Rotation as R\n",
    "from tqdm.auto import tqdm"
   ]
  },
  {
   "cell_type": "code",
   "execution_count": 3,
   "id": "6fcfb738-0c34-47e4-a002-dd9b8593d71d",
   "metadata": {},
   "outputs": [
    {
     "data": {
      "application/vnd.jupyter.widget-view+json": {
       "model_id": "d6f68f6a7fbf43e892fb191bbed5601c",
       "version_major": 2,
       "version_minor": 0
      },
      "text/plain": [
       "  0%|          | 0/10 [00:00<?, ?it/s]"
      ]
     },
     "metadata": {},
     "output_type": "display_data"
    },
    {
     "data": {
      "application/vnd.jupyter.widget-view+json": {
       "model_id": "9d3fe4d2cebd452abaa96ddc063dd6a5",
       "version_major": 2,
       "version_minor": 0
      },
      "text/plain": [
       "  0%|          | 0/5 [00:00<?, ?it/s]"
      ]
     },
     "metadata": {},
     "output_type": "display_data"
    },
    {
     "data": {
      "application/vnd.jupyter.widget-view+json": {
       "model_id": "325f9fce745145c492537b61f8613697",
       "version_major": 2,
       "version_minor": 0
      },
      "text/plain": [
       "  0%|          | 0/5 [00:00<?, ?it/s]"
      ]
     },
     "metadata": {},
     "output_type": "display_data"
    },
    {
     "data": {
      "application/vnd.jupyter.widget-view+json": {
       "model_id": "7add8c406fb44ba1963800c36b93338a",
       "version_major": 2,
       "version_minor": 0
      },
      "text/plain": [
       "  0%|          | 0/5 [00:00<?, ?it/s]"
      ]
     },
     "metadata": {},
     "output_type": "display_data"
    },
    {
     "data": {
      "application/vnd.jupyter.widget-view+json": {
       "model_id": "d980dedf1c4b40c1b91cb45b50e83e03",
       "version_major": 2,
       "version_minor": 0
      },
      "text/plain": [
       "  0%|          | 0/5 [00:00<?, ?it/s]"
      ]
     },
     "metadata": {},
     "output_type": "display_data"
    },
    {
     "data": {
      "application/vnd.jupyter.widget-view+json": {
       "model_id": "50475aaf3bb84858aae5932b4238b9f9",
       "version_major": 2,
       "version_minor": 0
      },
      "text/plain": [
       "  0%|          | 0/5 [00:00<?, ?it/s]"
      ]
     },
     "metadata": {},
     "output_type": "display_data"
    },
    {
     "data": {
      "application/vnd.jupyter.widget-view+json": {
       "model_id": "84f3d234abce405283d408a6be8bd13d",
       "version_major": 2,
       "version_minor": 0
      },
      "text/plain": [
       "  0%|          | 0/5 [00:00<?, ?it/s]"
      ]
     },
     "metadata": {},
     "output_type": "display_data"
    },
    {
     "data": {
      "application/vnd.jupyter.widget-view+json": {
       "model_id": "225f02f0b33042d29471ea10d37e724f",
       "version_major": 2,
       "version_minor": 0
      },
      "text/plain": [
       "  0%|          | 0/5 [00:00<?, ?it/s]"
      ]
     },
     "metadata": {},
     "output_type": "display_data"
    },
    {
     "data": {
      "application/vnd.jupyter.widget-view+json": {
       "model_id": "2de3d68960344327a3141c961849f41d",
       "version_major": 2,
       "version_minor": 0
      },
      "text/plain": [
       "  0%|          | 0/5 [00:00<?, ?it/s]"
      ]
     },
     "metadata": {},
     "output_type": "display_data"
    },
    {
     "data": {
      "application/vnd.jupyter.widget-view+json": {
       "model_id": "167fc4e939aa46cda15e24aae0d2522f",
       "version_major": 2,
       "version_minor": 0
      },
      "text/plain": [
       "  0%|          | 0/5 [00:00<?, ?it/s]"
      ]
     },
     "metadata": {},
     "output_type": "display_data"
    },
    {
     "data": {
      "application/vnd.jupyter.widget-view+json": {
       "model_id": "917e531c90e045de8c34ab9ef6698252",
       "version_major": 2,
       "version_minor": 0
      },
      "text/plain": [
       "  0%|          | 0/5 [00:00<?, ?it/s]"
      ]
     },
     "metadata": {},
     "output_type": "display_data"
    },
    {
     "data": {
      "application/vnd.jupyter.widget-view+json": {
       "model_id": "f8e40f10c26b4311afef3a551fee6ec3",
       "version_major": 2,
       "version_minor": 0
      },
      "text/plain": [
       "  0%|          | 0/5 [00:00<?, ?it/s]"
      ]
     },
     "metadata": {},
     "output_type": "display_data"
    },
    {
     "data": {
      "application/vnd.jupyter.widget-view+json": {
       "model_id": "24717f74cbf941f4b8765dc27aa469cf",
       "version_major": 2,
       "version_minor": 0
      },
      "text/plain": [
       "  0%|          | 0/5 [00:00<?, ?it/s]"
      ]
     },
     "metadata": {},
     "output_type": "display_data"
    },
    {
     "data": {
      "application/vnd.jupyter.widget-view+json": {
       "model_id": "748441c44f88498e973b8ea6544825ba",
       "version_major": 2,
       "version_minor": 0
      },
      "text/plain": [
       "  0%|          | 0/5 [00:00<?, ?it/s]"
      ]
     },
     "metadata": {},
     "output_type": "display_data"
    },
    {
     "data": {
      "application/vnd.jupyter.widget-view+json": {
       "model_id": "27f2c1cdb1aa49c79a594f667a6332a6",
       "version_major": 2,
       "version_minor": 0
      },
      "text/plain": [
       "  0%|          | 0/5 [00:00<?, ?it/s]"
      ]
     },
     "metadata": {},
     "output_type": "display_data"
    },
    {
     "data": {
      "application/vnd.jupyter.widget-view+json": {
       "model_id": "52f0b1ecf3e04ae7a2341561b3ec3472",
       "version_major": 2,
       "version_minor": 0
      },
      "text/plain": [
       "  0%|          | 0/5 [00:00<?, ?it/s]"
      ]
     },
     "metadata": {},
     "output_type": "display_data"
    },
    {
     "data": {
      "application/vnd.jupyter.widget-view+json": {
       "model_id": "9f08813411ba43c8b17860235f4c1699",
       "version_major": 2,
       "version_minor": 0
      },
      "text/plain": [
       "  0%|          | 0/5 [00:00<?, ?it/s]"
      ]
     },
     "metadata": {},
     "output_type": "display_data"
    },
    {
     "data": {
      "application/vnd.jupyter.widget-view+json": {
       "model_id": "c3f39d72c1ad47ff9284f04267e5a774",
       "version_major": 2,
       "version_minor": 0
      },
      "text/plain": [
       "  0%|          | 0/5 [00:00<?, ?it/s]"
      ]
     },
     "metadata": {},
     "output_type": "display_data"
    },
    {
     "data": {
      "application/vnd.jupyter.widget-view+json": {
       "model_id": "0b0b453732ed48089190c2a8d2a112a4",
       "version_major": 2,
       "version_minor": 0
      },
      "text/plain": [
       "  0%|          | 0/5 [00:00<?, ?it/s]"
      ]
     },
     "metadata": {},
     "output_type": "display_data"
    },
    {
     "data": {
      "application/vnd.jupyter.widget-view+json": {
       "model_id": "86c113cbd19c42188f0a0f207345522d",
       "version_major": 2,
       "version_minor": 0
      },
      "text/plain": [
       "  0%|          | 0/5 [00:00<?, ?it/s]"
      ]
     },
     "metadata": {},
     "output_type": "display_data"
    },
    {
     "data": {
      "application/vnd.jupyter.widget-view+json": {
       "model_id": "b5b459b507284257ab809c70b5b0ba3a",
       "version_major": 2,
       "version_minor": 0
      },
      "text/plain": [
       "  0%|          | 0/5 [00:00<?, ?it/s]"
      ]
     },
     "metadata": {},
     "output_type": "display_data"
    }
   ],
   "source": [
    "def angle(vector_1, vector_2): # find angle between vectors, radian\n",
    "    unit_vector_1 = vector_1 / np.linalg.norm(vector_1)\n",
    "    unit_vector_2 = vector_2 / np.linalg.norm(vector_2)\n",
    "    dot_product = np.dot(unit_vector_1, unit_vector_2)\n",
    "    return np.arccos(dot_product)\n",
    "\n",
    "def rotate_system(a: np.array, b: np.array, coord: np.array) -> np.array:\n",
    "    \"\"\"\n",
    "    Parameters\n",
    "    ----------\n",
    "    a : rotatable vector\n",
    "    b : direction vector\n",
    "    coord : coordinations of our system\n",
    "    Returns\n",
    "    -------\n",
    "    System will be rotate at the same angle as we rotate vector a to make it parallel with vector b\n",
    "    \"\"\"\n",
    "    if np.linalg.norm(np.cross(a, b)) == 0: # calc mult vector, in case of parallel vector we choose any normal vector\n",
    "        if a[0] == 0:\n",
    "            rv = [np.pi, 0, 0]\n",
    "        else:\n",
    "            rv = np.array([-(a[1]+a[2])/a[0], 1, 1])/np.linalg.norm([-(a[1]+a[2])/a[0], 1, 1]) * np.pi\n",
    "    else:\n",
    "        rv = np.cross(a, b)/np.linalg.norm(np.cross(a, b)) * angle(a, b)\n",
    "    \n",
    "    r = R.from_rotvec(rv)\n",
    "    return r.apply(coord)\n",
    "\n",
    "def read_xyz(file):\n",
    "    with open(file) as file:\n",
    "        system = []\n",
    "        for cnt, line in enumerate(file):\n",
    "            if cnt > 1:\n",
    "                system.append(line.split())\n",
    "    df = pd.DataFrame(system, columns = ('atom', 'x', 'y', 'z'))\n",
    "    return df.astype({'atom': str, 'x': float, 'y': float, 'z': float})\n",
    "\n",
    "\n",
    "def read_mol2(file):\n",
    "    read = False\n",
    "    with open(file) as file:\n",
    "        system = []\n",
    "        for line in file:\n",
    "            if '@<TRIPOS>BOND' in line:\n",
    "                read = False\n",
    "            if read:\n",
    "                system.append(line.split())\n",
    "            \n",
    "            if '@<TRIPOS>ATOM' in line:\n",
    "                read = True\n",
    "    df = pd.DataFrame(system, columns = ('atnum', 'atom', 'x', 'y', 'z', 'atType',\n",
    "                                         'resnum', 'res', 'something'))\n",
    "    return df.astype({'atnum': np.uint32, 'resnum': np.uint32, 'atom': str, 'x': float, 'y': float, 'z': float})\n",
    "            \n",
    "\n",
    "def farest_atom(n=0):\n",
    "    coords = df[['x', 'y', 'z']].values\n",
    "    dist = np.sum((coords - coords[:, np.newaxis])**2, axis=-1)**0.5\n",
    "    return dist[n].argmax()\n",
    "\n",
    "\n",
    "def write_xyz(df, filename='test.xyz'):\n",
    "    with open(filename, 'w') as file:\n",
    "        file.write(f'{df.shape[0]}\\n\\n')\n",
    "        for i in range(df.shape[0]):\n",
    "            file.write('{:3s}{:17.9f}{:17.9f}{:17.9f}\\n'.format(df.iloc[i].atom, df.iloc[i].x, df.iloc[i].y, df.iloc[i].z))\n",
    "\n",
    "\n",
    "def write_pdb(system, file='test.pdb'):\n",
    "    with open(file, 'w') as file:\n",
    "        for i in range(system.shape[0]):\n",
    "            if i > 1 and system.iloc[i].resnum != system.iloc[i-1].resnum:\n",
    "                file.write('TER\\n')\n",
    "\n",
    "            file.write('ATOM  {:5d}  {:<4s}{:<4s} {:4d}    {:8.3f}{:8.3f}{:8.3f}  0.00  0.00\\n'\n",
    "                       .format(*system.iloc[i][['atnum', 'atom', 'res', 'resnum', 'x', 'y', 'z']]))\n",
    "        file.write('END\\n')\n",
    "\n",
    "def random_move(coords, dxyz):\n",
    "    coords[['x', 'y', 'z']] += np.random.random(3) * np.array(dxyz)\n",
    "    return coords\n",
    "\n",
    "\n",
    "check_min_dist = lambda coords0, coords1, r_c: np.sum((coords0 - coords1[:, np.newaxis]) ** 2, axis=-1).min() > r_c**0.5\n",
    "\n",
    "\n",
    "def random_box(df, box_size, random_angle, r_c=1, iters=1000):\n",
    "    system = df.copy()\n",
    "    for i in tqdm(range(iters)):\n",
    "        new_mol = random_move(df.copy(), box_size)\n",
    "        random_angle = np.random.random(3) * np.array(random_angle)\n",
    "        new_mol[['x', 'y', 'z']] = rotate_system(random_angle, np.array([0, 1, 1.]), new_mol[['x', 'y', 'z']])\n",
    "        if check_min_dist(new_mol[['x', 'y', 'z']].values, system[['x', 'y', 'z']].values, r_c):\n",
    "            new_mol['resnum'] = system.resnum.iloc[-1] + 1\n",
    "            system = pd.concat([system, new_mol])\n",
    "            \n",
    "    system['atnum'] = np.arange(1, system.shape[0] + 1)\n",
    "    return system\n",
    "\n",
    "\n",
    "def generate_boxes(n_iters, top, *args, **kwargs):\n",
    "    systems = []\n",
    "    for i in tqdm(range(n_iters)):\n",
    "        systems.append(random_box(*args, **kwargs))\n",
    "        if i % 10 == 0:\n",
    "            systems.sort(key=lambda x: -x.shape[0])\n",
    "            systems = systems[:10]\n",
    "    return systems[:10]\n",
    "\n",
    "\n",
    "df = read_mol2('AMA.mol2')\n",
    "atoms = (df[df.atom == 'O2'].index[0],\n",
    "         df[df.atom == 'C7'].index[0])\n",
    "\n",
    "df.loc[:, ['x', 'y', 'z']] = df.loc[:, ['x', 'y', 'z']] - df.loc[[atoms[0]], ['x', 'y', 'z']].values\n",
    "df[['x', 'y', 'z']] = rotate_system(df.loc[[atoms[1]], ['x', 'y', 'z']], np.array([1, 0, 0.]), df[['x', 'y', 'z']])\n",
    "\n",
    "\n",
    "\n",
    "def make_raws_box(df, r_c=14.5, d_y=7, d_z=7):\n",
    "    system = df.copy()\n",
    "    for i in tqdm(range(d_y)):\n",
    "        for j in range(d_z):\n",
    "            if i+j == 0:\n",
    "                continue\n",
    "            while True:\n",
    "                new_mol = df.copy()\n",
    "                random_angle = np.random.random()*360\n",
    "                r = R.from_euler('x', random_angle, degrees=True)\n",
    "                new_mol[['x', 'y', 'z']] = r.apply(new_mol[['x', 'y', 'z']])\n",
    "                new_mol[['x', 'y', 'z']] += np.array([0, r_c, r_c]) * np.array([0, i, j])\n",
    "                if check_min_dist(new_mol[['x', 'y', 'z']].values,\n",
    "                                  system[['x', 'y', 'z']].values, 1.2):\n",
    "                    break\n",
    "\n",
    "            new_mol['resnum'] = system.resnum.iloc[-1] + 1\n",
    "            system = pd.concat([system, new_mol])\n",
    "\n",
    "\n",
    "    system['atnum'] = np.arange(1, system.shape[0] + 1)\n",
    "    return system\n",
    "\n",
    "\n",
    "def make_bilayer(system0, system1, r_c=None):\n",
    "    if r_c is None:\n",
    "        r_c = 2 * system0.x.max() + 1.2\n",
    "    system0['x'] *= -1\n",
    "    system0['x'] += r_c\n",
    "    system1['atnum'] += system0.atnum.iloc[-1]\n",
    "    system1['resnum'] += system0.resnum.iloc[-1]\n",
    "    return pd.concat([system0, system1])\n",
    "\n",
    "for i in tqdm(range(10)):\n",
    "    system0 = make_raws_box(df, 14.6, 5, 5)\n",
    "    system1 = make_raws_box(df, 14.6, 5, 5)\n",
    "    bilayer = make_bilayer(system0, system1)\n",
    "    write_pdb(bilayer, f'bi_test_5_5_{i}.pdb')"
   ]
  }
 ],
 "metadata": {
  "kernelspec": {
   "display_name": "Python 3 (ipykernel)",
   "language": "python",
   "name": "python3"
  },
  "language_info": {
   "codemirror_mode": {
    "name": "ipython",
    "version": 3
   },
   "file_extension": ".py",
   "mimetype": "text/x-python",
   "name": "python",
   "nbconvert_exporter": "python",
   "pygments_lexer": "ipython3",
   "version": "3.9.7"
  }
 },
 "nbformat": 4,
 "nbformat_minor": 5
}
