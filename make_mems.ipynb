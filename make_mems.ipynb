{
 "cells": [
  {
   "cell_type": "code",
   "execution_count": 1,
   "id": "0abd3765-ee01-43eb-8399-338b5cc6c932",
   "metadata": {},
   "outputs": [],
   "source": [
    "import numpy as np\n",
    "import pandas as pd\n",
    "import numpy as np\n",
    "from scipy.spatial.transform import Rotation as R\n",
    "from tqdm.auto import tqdm"
   ]
  },
  {
   "cell_type": "code",
   "execution_count": 163,
   "id": "6fcfb738-0c34-47e4-a002-dd9b8593d71d",
   "metadata": {},
   "outputs": [
    {
     "data": {
      "application/vnd.jupyter.widget-view+json": {
       "model_id": "a6d33e2008ff44c48ae149fbae0d633c",
       "version_major": 2,
       "version_minor": 0
      },
      "text/plain": [
       "  0%|          | 0/7 [00:00<?, ?it/s]"
      ]
     },
     "metadata": {},
     "output_type": "display_data"
    },
    {
     "data": {
      "application/vnd.jupyter.widget-view+json": {
       "model_id": "fdbf335895b64ea1897b33d8c320aecc",
       "version_major": 2,
       "version_minor": 0
      },
      "text/plain": [
       "  0%|          | 0/7 [00:00<?, ?it/s]"
      ]
     },
     "metadata": {},
     "output_type": "display_data"
    },
    {
     "data": {
      "application/vnd.jupyter.widget-view+json": {
       "model_id": "10c8a7d906cf4d708d654c0bdaca0ef5",
       "version_major": 2,
       "version_minor": 0
      },
      "text/plain": [
       "  0%|          | 0/7 [00:00<?, ?it/s]"
      ]
     },
     "metadata": {},
     "output_type": "display_data"
    },
    {
     "data": {
      "application/vnd.jupyter.widget-view+json": {
       "model_id": "4f28b535a25f40c4bb012db8d203bd26",
       "version_major": 2,
       "version_minor": 0
      },
      "text/plain": [
       "  0%|          | 0/7 [00:00<?, ?it/s]"
      ]
     },
     "metadata": {},
     "output_type": "display_data"
    },
    {
     "data": {
      "application/vnd.jupyter.widget-view+json": {
       "model_id": "3d71330a44694b67960cce7da38a44e8",
       "version_major": 2,
       "version_minor": 0
      },
      "text/plain": [
       "  0%|          | 0/7 [00:00<?, ?it/s]"
      ]
     },
     "metadata": {},
     "output_type": "display_data"
    },
    {
     "data": {
      "application/vnd.jupyter.widget-view+json": {
       "model_id": "4fb6d9f7d0674f84a231f9c33fadcbb2",
       "version_major": 2,
       "version_minor": 0
      },
      "text/plain": [
       "  0%|          | 0/7 [00:00<?, ?it/s]"
      ]
     },
     "metadata": {},
     "output_type": "display_data"
    },
    {
     "data": {
      "application/vnd.jupyter.widget-view+json": {
       "model_id": "79521d3ddfe4443cb1b3b299beacdeea",
       "version_major": 2,
       "version_minor": 0
      },
      "text/plain": [
       "  0%|          | 0/7 [00:00<?, ?it/s]"
      ]
     },
     "metadata": {},
     "output_type": "display_data"
    },
    {
     "data": {
      "application/vnd.jupyter.widget-view+json": {
       "model_id": "28d4b7408a9a467ab6a350de9b8ecdad",
       "version_major": 2,
       "version_minor": 0
      },
      "text/plain": [
       "  0%|          | 0/7 [00:00<?, ?it/s]"
      ]
     },
     "metadata": {},
     "output_type": "display_data"
    },
    {
     "data": {
      "application/vnd.jupyter.widget-view+json": {
       "model_id": "e463c5217c2b4e9787456887335b05b2",
       "version_major": 2,
       "version_minor": 0
      },
      "text/plain": [
       "  0%|          | 0/7 [00:00<?, ?it/s]"
      ]
     },
     "metadata": {},
     "output_type": "display_data"
    },
    {
     "data": {
      "application/vnd.jupyter.widget-view+json": {
       "model_id": "d797f28981694cfc9275aa202e559d82",
       "version_major": 2,
       "version_minor": 0
      },
      "text/plain": [
       "  0%|          | 0/7 [00:00<?, ?it/s]"
      ]
     },
     "metadata": {},
     "output_type": "display_data"
    },
    {
     "data": {
      "application/vnd.jupyter.widget-view+json": {
       "model_id": "8d08b8ace27d4ded915d9333b59ad87b",
       "version_major": 2,
       "version_minor": 0
      },
      "text/plain": [
       "  0%|          | 0/5 [00:00<?, ?it/s]"
      ]
     },
     "metadata": {},
     "output_type": "display_data"
    },
    {
     "data": {
      "application/vnd.jupyter.widget-view+json": {
       "model_id": "a94daa6e192a42d693e15cd6c1b3d92d",
       "version_major": 2,
       "version_minor": 0
      },
      "text/plain": [
       "  0%|          | 0/5 [00:00<?, ?it/s]"
      ]
     },
     "metadata": {},
     "output_type": "display_data"
    },
    {
     "data": {
      "application/vnd.jupyter.widget-view+json": {
       "model_id": "cbc17ae5f52b429e83e4ea6a097a0aee",
       "version_major": 2,
       "version_minor": 0
      },
      "text/plain": [
       "  0%|          | 0/5 [00:00<?, ?it/s]"
      ]
     },
     "metadata": {},
     "output_type": "display_data"
    },
    {
     "data": {
      "application/vnd.jupyter.widget-view+json": {
       "model_id": "e60140a4b8da4a3cb15dd14e23c773ca",
       "version_major": 2,
       "version_minor": 0
      },
      "text/plain": [
       "  0%|          | 0/5 [00:00<?, ?it/s]"
      ]
     },
     "metadata": {},
     "output_type": "display_data"
    },
    {
     "data": {
      "application/vnd.jupyter.widget-view+json": {
       "model_id": "9a3a8a6fd4fe429f8d02caaff1619ec5",
       "version_major": 2,
       "version_minor": 0
      },
      "text/plain": [
       "  0%|          | 0/5 [00:00<?, ?it/s]"
      ]
     },
     "metadata": {},
     "output_type": "display_data"
    },
    {
     "data": {
      "application/vnd.jupyter.widget-view+json": {
       "model_id": "4a0a7497152c4f4faea6eb818bdc88db",
       "version_major": 2,
       "version_minor": 0
      },
      "text/plain": [
       "  0%|          | 0/5 [00:00<?, ?it/s]"
      ]
     },
     "metadata": {},
     "output_type": "display_data"
    },
    {
     "data": {
      "application/vnd.jupyter.widget-view+json": {
       "model_id": "e171a70ba1ea4ab3bf1445e74fcf6517",
       "version_major": 2,
       "version_minor": 0
      },
      "text/plain": [
       "  0%|          | 0/5 [00:00<?, ?it/s]"
      ]
     },
     "metadata": {},
     "output_type": "display_data"
    },
    {
     "data": {
      "application/vnd.jupyter.widget-view+json": {
       "model_id": "f54080d18a8048898b2489ce87cc167f",
       "version_major": 2,
       "version_minor": 0
      },
      "text/plain": [
       "  0%|          | 0/5 [00:00<?, ?it/s]"
      ]
     },
     "metadata": {},
     "output_type": "display_data"
    },
    {
     "data": {
      "application/vnd.jupyter.widget-view+json": {
       "model_id": "6a7a733f44d74116964766320baa22ee",
       "version_major": 2,
       "version_minor": 0
      },
      "text/plain": [
       "  0%|          | 0/5 [00:00<?, ?it/s]"
      ]
     },
     "metadata": {},
     "output_type": "display_data"
    },
    {
     "data": {
      "application/vnd.jupyter.widget-view+json": {
       "model_id": "3a4be5c6fc6b42048250f344c897e319",
       "version_major": 2,
       "version_minor": 0
      },
      "text/plain": [
       "  0%|          | 0/5 [00:00<?, ?it/s]"
      ]
     },
     "metadata": {},
     "output_type": "display_data"
    }
   ],
   "source": [
    "def angle(vector_1, vector_2): # find angle between vectors, radian\n",
    "    unit_vector_1 = vector_1 / np.linalg.norm(vector_1)\n",
    "    unit_vector_2 = vector_2 / np.linalg.norm(vector_2)\n",
    "    dot_product = np.dot(unit_vector_1, unit_vector_2)\n",
    "    return np.arccos(dot_product)\n",
    "\n",
    "def rotate_system(a: np.array, b: np.array, coord: np.array) -> np.array:\n",
    "    \"\"\"\n",
    "    Parameters\n",
    "    ----------\n",
    "    a : rotatable vector\n",
    "    b : direction vector\n",
    "    coord : coordinations of our system\n",
    "    Returns\n",
    "    -------\n",
    "    System will be rotate at the same angle as we rotate vector a to make it parallel with vector b\n",
    "    \"\"\"\n",
    "    if np.linalg.norm(np.cross(a, b)) == 0: # calc mult vector, in case of parallel vector we choose any normal vector\n",
    "        if a[0] == 0:\n",
    "            rv = [np.pi, 0, 0]\n",
    "        else:\n",
    "            rv = np.array([-(a[1]+a[2])/a[0], 1, 1])/np.linalg.norm([-(a[1]+a[2])/a[0], 1, 1]) * np.pi\n",
    "    else:\n",
    "        rv = np.cross(a, b)/np.linalg.norm(np.cross(a, b)) * angle(a, b)\n",
    "    \n",
    "    r = R.from_rotvec(rv)\n",
    "    return r.apply(coord)\n",
    "\n",
    "def read_xyz(file):\n",
    "    with open(file) as file:\n",
    "        system = []\n",
    "        for cnt, line in enumerate(file):\n",
    "            if cnt > 1:\n",
    "                system.append(line.split())\n",
    "    df = pd.DataFrame(system, columns = ('atom', 'x', 'y', 'z'))\n",
    "    return df.astype({'atom': str, 'x': float, 'y': float, 'z': float})\n",
    "\n",
    "\n",
    "def read_mol2(file):\n",
    "    read = False\n",
    "    with open(file) as file:\n",
    "        system = []\n",
    "        for line in file:\n",
    "            if '@<TRIPOS>BOND' in line:\n",
    "                read = False\n",
    "            if read:\n",
    "                system.append(line.split())\n",
    "            \n",
    "            if '@<TRIPOS>ATOM' in line:\n",
    "                read = True\n",
    "    df = pd.DataFrame(system, columns = ('atnum', 'atom', 'x', 'y', 'z', 'atType',\n",
    "                                         'resnum', 'res', 'something'))\n",
    "    return df.astype({'atnum': np.uint32, 'resnum': np.uint32, 'atom': str, 'x': float, 'y': float, 'z': float})\n",
    "            \n",
    "\n",
    "def farest_atom(n=0):\n",
    "    coords = df[['x', 'y', 'z']].values\n",
    "    dist = np.sum((coords - coords[:, np.newaxis])**2, axis=-1)**0.5\n",
    "    return dist[n].argmax()\n",
    "\n",
    "\n",
    "def write_xyz(df, filename='test.xyz'):\n",
    "    with open(filename, 'w') as file:\n",
    "        file.write(f'{df.shape[0]}\\n\\n')\n",
    "        for i in range(df.shape[0]):\n",
    "            file.write('{:3s}{:17.9f}{:17.9f}{:17.9f}\\n'.format(df.iloc[i].atom, df.iloc[i].x, df.iloc[i].y, df.iloc[i].z))\n",
    "\n",
    "\n",
    "def write_pdb(system, file='test.pdb'):\n",
    "    with open(file, 'w') as file:\n",
    "        for i in range(system.shape[0]):\n",
    "            if i > 1 and system.iloc[i].resnum != system.iloc[i-1].resnum:\n",
    "                file.write('TER\\n')\n",
    "\n",
    "            file.write('ATOM  {:5d}  {:<4s}{:<4s} {:4d}    {:8.3f}{:8.3f}{:8.3f}  0.00  0.00\\n'\n",
    "                       .format(*system.iloc[i][['atnum', 'atom', 'res', 'resnum', 'x', 'y', 'z']]))\n",
    "        file.write('END\\n')\n",
    "\n",
    "def random_move(coords, dxyz):\n",
    "    coords[['x', 'y', 'z']] += np.random.random(3) * np.array(dxyz)\n",
    "    return coords\n",
    "\n",
    "\n",
    "check_min_dist = lambda coords0, coords1, r_c: np.sum((coords0 - coords1[:, np.newaxis]) ** 2, axis=-1).min() > r_c**0.5\n",
    "\n",
    "\n",
    "def random_box(df, box_size, random_angle, r_c=1, iters=1000):\n",
    "    system = df.copy()\n",
    "    for i in tqdm(range(iters)):\n",
    "        new_mol = random_move(df.copy(), box_size)\n",
    "        random_angle = np.random.random(3) * np.array(random_angle)\n",
    "        new_mol[['x', 'y', 'z']] = rotate_system(random_angle, np.array([0, 1, 1.]), new_mol[['x', 'y', 'z']])\n",
    "        if check_min_dist(new_mol[['x', 'y', 'z']].values, system[['x', 'y', 'z']].values, r_c):\n",
    "            new_mol['resnum'] = system.resnum.iloc[-1] + 1\n",
    "            system = pd.concat([system, new_mol])\n",
    "            \n",
    "    system['atnum'] = np.arange(1, system.shape[0] + 1)\n",
    "    return system\n",
    "\n",
    "\n",
    "def generate_boxes(n_iters, top, *args, **kwargs):\n",
    "    systems = []\n",
    "    for i in tqdm(range(n_iters)):\n",
    "        systems.append(random_box(*args, **kwargs))\n",
    "        if i % 10 == 0:\n",
    "            systems.sort(key=lambda x: -x.shape[0])\n",
    "            systems = systems[:10]\n",
    "    return systems[:10]\n",
    "\n",
    "\n",
    "df = read_mol2('AMA.mol2')\n",
    "atoms = (df[df.atom == 'O2'].index[0],\n",
    "         df[df.atom == 'C7'].index[0])\n",
    "\n",
    "df.loc[:, ['x', 'y', 'z']] = df.loc[:, ['x', 'y', 'z']] - df.loc[[atoms[0]], ['x', 'y', 'z']].values\n",
    "df[['x', 'y', 'z']] = rotate_system(df.loc[[atoms[1]], ['x', 'y', 'z']], np.array([1, 0, 0.]), df[['x', 'y', 'z']])\n",
    "\n",
    "\n",
    "\n",
    "def make_raws_box(df, r_c=14.5, d_y=7, d_z=7):\n",
    "    system = df.copy()\n",
    "    for i in tqdm(range(d_y)):\n",
    "        for j in range(d_z):\n",
    "            if i+j == 0:\n",
    "                continue\n",
    "            while True:\n",
    "                new_mol = df.copy()\n",
    "                random_angle = np.random.random()*360\n",
    "                r = R.from_euler('x', random_angle, degrees=True)\n",
    "                new_mol[['x', 'y', 'z']] = r.apply(new_mol[['x', 'y', 'z']])\n",
    "                new_mol[['x', 'y', 'z']] += np.array([0, r_c, r_c]) * np.array([0, i, j])\n",
    "                if check_min_dist(new_mol[['x', 'y', 'z']].values,\n",
    "                                  system[['x', 'y', 'z']].values, 1.2):\n",
    "                    break\n",
    "\n",
    "            new_mol['resnum'] = system.resnum.iloc[-1] + 1\n",
    "            system = pd.concat([system, new_mol])\n",
    "\n",
    "\n",
    "    system['atnum'] = np.arange(1, system.shape[0] + 1)\n",
    "    return system\n",
    "\n",
    "\n",
    "for i in range(10):\n",
    "    system = make_raws_box(df, 14.5, 7, 7)\n",
    "    write_pdb(system, f'test7_7_{i}.pdb')\n",
    "    \n",
    "for i in range(10):\n",
    "    system = make_raws_box(df, 14.5, 5, 5)\n",
    "    write_pdb(system, f'test5_5_{i}.pdb')"
   ]
  }
 ],
 "metadata": {
  "kernelspec": {
   "display_name": "Python 3 (ipykernel)",
   "language": "python",
   "name": "python3"
  },
  "language_info": {
   "codemirror_mode": {
    "name": "ipython",
    "version": 3
   },
   "file_extension": ".py",
   "mimetype": "text/x-python",
   "name": "python",
   "nbconvert_exporter": "python",
   "pygments_lexer": "ipython3",
   "version": "3.9.7"
  }
 },
 "nbformat": 4,
 "nbformat_minor": 5
}
