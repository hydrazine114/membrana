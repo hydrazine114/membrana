{
 "cells": [
  {
   "cell_type": "code",
   "execution_count": 1,
   "id": "b138997b-463f-4f2b-a19d-f07f239de687",
   "metadata": {
    "tags": []
   },
   "outputs": [],
   "source": [
    "import numpy as np\n",
    "import pandas as pd\n",
    "from scipy.spatial.transform import Rotation as R\n",
    "\n",
    "from scipy import optimize\n",
    "from sklearn.neighbors import KDTree\n",
    "from sklearn.metrics.pairwise import euclidean_distances\n",
    "from sklearn.neighbors import BallTree\n",
    "from tqdm.notebook import tqdm\n",
    "\n",
    "from readers_writers import *"
   ]
  },
  {
   "cell_type": "markdown",
   "id": "5d3f4e99",
   "metadata": {},
   "source": [
    "# Create not optimized membrana"
   ]
  },
  {
   "cell_type": "markdown",
   "id": "23e1ad86",
   "metadata": {},
   "source": [
    "### all functions you need for creating not optimized mem"
   ]
  },
  {
   "cell_type": "code",
   "execution_count": 2,
   "id": "c3217dda",
   "metadata": {},
   "outputs": [],
   "source": [
    "np.random.seed(41)\n",
    "\n",
    "def angle(vector_1, vector_2): # find angle between vectors, radian\n",
    "    unit_vector_1 = vector_1 / np.linalg.norm(vector_1)\n",
    "    unit_vector_2 = vector_2 / np.linalg.norm(vector_2)\n",
    "    dot_product = np.dot(unit_vector_1, unit_vector_2)\n",
    "    return np.arccos(dot_product)\n",
    "\n",
    "def rotate_system(a: np.array, b: np.array, coord: np.array) -> np.array:\n",
    "    \"\"\"\n",
    "    Parameters\n",
    "    ----------\n",
    "    a : rotatable vector\n",
    "    b : direction vector\n",
    "    coord : coordinations of our system\n",
    "    Returns\n",
    "    -------\n",
    "    System will be rotate at the same angle as we rotate vector a to make it parallel with vector b\n",
    "    \"\"\"\n",
    "    if np.linalg.norm(np.cross(a, b)) == 0: # calc mult vector, in case of parallel vector we choose any normal vector\n",
    "        if a[0] == 0:\n",
    "            rv = [np.pi, 0, 0]\n",
    "        else:\n",
    "            rv = np.array([-(a[1]+a[2])/a[0], 1, 1])/np.linalg.norm([-(a[1]+a[2])/a[0], 1, 1]) * np.pi\n",
    "    else:\n",
    "        rv = np.cross(a, b)/np.linalg.norm(np.cross(a, b)) * angle(a, b)\n",
    "    \n",
    "    r = R.from_rotvec(rv)\n",
    "    return r.apply(coord)\n",
    "\n",
    "\n",
    "# |------------------------- build membrana -------------------------|\n",
    "\n",
    "\n",
    "def farest_atom(df, n=0):\n",
    "    coords = df[['x', 'y', 'z']].values\n",
    "    dist = np.sum((coords - coords[:, np.newaxis])**2, axis=-1)**0.5\n",
    "    return dist[n].argmax()\n",
    "\n",
    "\n",
    "def random_move(coords, dxyz):\n",
    "    coords[['x', 'y', 'z']] += np.random.random(3) * np.array(dxyz)\n",
    "    return coords\n",
    "\n",
    "\n",
    "check_min_dist = lambda coords0, coords1, r_c: np.sum((coords0 - coords1[:, np.newaxis]) ** 2, axis=-1).min() > r_c**0.5\n",
    "\n",
    "\n",
    "def random_box(df, box_size, random_angle, r_c=1, iters=1000):\n",
    "    system = df.copy()\n",
    "    for i in tqdm(range(iters)):\n",
    "        new_mol = random_move(df.copy(), box_size)\n",
    "        random_angle = np.random.random(3) * np.array(random_angle)\n",
    "        new_mol[['x', 'y', 'z']] = rotate_system(random_angle, np.array([0, 1, 1.]), new_mol[['x', 'y', 'z']])\n",
    "        if check_min_dist(new_mol[['x', 'y', 'z']].values, system[['x', 'y', 'z']].values, r_c):\n",
    "            new_mol['resnum'] = system.resnum.iloc[-1] + 1\n",
    "            system = pd.concat([system, new_mol])\n",
    "            \n",
    "    system['atnum'] = np.arange(1, system.shape[0] + 1)\n",
    "    return system\n",
    "\n",
    "\n",
    "def generate_boxes(n_iters, top, *args, **kwargs):\n",
    "    systems = []\n",
    "    for i in tqdm(range(n_iters)):\n",
    "        systems.append(random_box(*args, **kwargs))\n",
    "        if i % 10 == 0:\n",
    "            systems.sort(key=lambda x: -x.shape[0])\n",
    "            systems = systems[:10]\n",
    "    return systems[:10]\n",
    "\n",
    "\n",
    "\n",
    "def make_layer(*args, **kmargs):\n",
    "    n = 1\n",
    "    while True:\n",
    "        result = make_raws_box(*args, **kmargs)\n",
    "        if result is not None:\n",
    "            break\n",
    "        n+=1\n",
    "        print(f'attempt {n}')\n",
    "    return result\n",
    "\n",
    "\n",
    "def make_raws_box(molecules, system, r_c=14.5, d_y=7, d_z=7):\n",
    "    n = 1\n",
    "    for i in tqdm(range(d_y)):\n",
    "        for j in range(d_z):\n",
    "            if i+j == 0:\n",
    "                continue\n",
    "            system = add_mol(molecules[i][j], system, r_c, i=i, j=j)\n",
    "            n += 1\n",
    "    \n",
    "    system['atnum'] = np.arange(1, system.shape[0] + 1)\n",
    "    return system\n",
    "\n",
    "\n",
    "def add_mol(df, system, r_c, i=0, j=0):\n",
    "    new_mol = df.copy()\n",
    "    random_angle = np.random.random()*360\n",
    "    r = R.from_euler('x', random_angle, degrees=True)\n",
    "    new_mol[['x', 'y', 'z']] = r.apply(new_mol[['x', 'y', 'z']])\n",
    "    new_mol[['x', 'y', 'z']] += np.array([0, r_c, r_c]) * np.array([0, i, j])\n",
    "    new_mol['resnum'] = system.resnum.iloc[-1] + 1\n",
    "    return pd.concat([system, new_mol])\n",
    "\n",
    "\n",
    "def gen_box(k=6, eu=70, w=30):\n",
    "    d0 = [0 for i in range(eu)] + [1 for i in range(w)]\n",
    "    np.random.shuffle(d0)\n",
    "    d0 = np.array(d0)\n",
    "    d1 = np.where(d0 == 1, 0, 1)\n",
    "    idx = np.argwhere(d1 == 1)\n",
    "    np.random.shuffle(idx)\n",
    "    idx = idx[:eu - w]\n",
    "    d1[idx] = 0\n",
    "    return d0.reshape((k, k)), d1.reshape((k, k))\n",
    "\n",
    "# |-----------for optimize molecule location -------------|\n",
    "\n",
    "def e(df):\n",
    "    return (((df.z**2 + df.y**2))**0.5).max()\n",
    "\n",
    "def rotate_system_foropt(angles, df):\n",
    "    r = R.from_euler('xyz', angles, degrees=True)\n",
    "    df[['x', 'y', 'z']] = r.apply(df[['x', 'y', 'z']])\n",
    "    return df\n",
    "\n",
    "def f(angles, df):\n",
    "    dft = df.copy()\n",
    "    dft = rotate_system_foropt(angles, dft)\n",
    "    return e(dft)\n",
    "\n",
    "def rotate_system_opt(df):\n",
    "    lw = [-90] * 3\n",
    "    up = [90] * 3\n",
    "    bounds=list(zip(lw, up))\n",
    "    res = optimize.dual_annealing(f, bounds=bounds, maxiter=100, args=(df,))\n",
    "    \n",
    "    df = rotate_system_foropt(res.x, df)\n",
    "    print(e(df))\n",
    "    return df\n",
    "\n",
    "\n",
    "df1 = read_pdb('files/AMA_eU.pdb')\n",
    "write_pdb(df1)"
   ]
  },
  {
   "cell_type": "code",
   "execution_count": 3,
   "id": "843bff78",
   "metadata": {},
   "outputs": [
    {
     "name": "stdout",
     "output_type": "stream",
     "text": [
      "9.617905271235365\n",
      "5.453598638352529\n",
      "7.160471947347766\n"
     ]
    }
   ],
   "source": [
    "# |------------------------ lets ROCK! ------------------ |\n",
    "# read molecules and rotate them as it is needed by guiding atoms\n",
    "\n",
    "df = read_pdb('files/KMA_W.pdb', ) \n",
    "atoms = (df[df.atom == 'O66'].index[0],\n",
    "         df[df.atom == 'C59'].index[0])\n",
    "\n",
    "df.loc[:, ['x', 'y', 'z']] = df.loc[:, ['x', 'y', 'z']] - df.loc[[atoms[0]], ['x', 'y', 'z']].values\n",
    "df[['x', 'y', 'z']] = rotate_system(df.loc[[atoms[1]], ['x', 'y', 'z']], np.array([1, 0, 0.]), df[['x', 'y', 'z']])\n",
    "df[['x', 'y', 'z']] -= df[['x', 'y', 'z']].mean()\n",
    "\n",
    "df1 = read_pdb('files/AMA_eU.pdb')\n",
    "atoms = (df1[df1.atom == 'O81'].index[0],\n",
    "         df1[df1.atom == 'C70'].index[0]) \n",
    "\n",
    "df1.loc[:, ['x', 'y', 'z']] = df1.loc[:, ['x', 'y', 'z']] - df1.loc[[atoms[0]], ['x', 'y', 'z']].values\n",
    "df1[['x', 'y', 'z']] = rotate_system(df1.loc[[atoms[1]], ['x', 'y', 'z']], np.array([1, 0, 0.]), df1[['x', 'y', 'z']])\n",
    "df1[['x', 'y', 'z']] -= df1[['x', 'y', 'z']].mean()\n",
    "\n",
    "df2 = read_pdb('files/MMA_good_W.pdb')\n",
    "atoms = (df2[df2.atom == 'O65'].index[0],\n",
    "         df2[df2.atom == 'C18'].index[0])\n",
    "\n",
    "df2.loc[:, ['x', 'y', 'z']] = df2.loc[:, ['x', 'y', 'z']] - df2.loc[[atoms[0]], ['x', 'y', 'z']].values\n",
    "df2[['x', 'y', 'z']] = rotate_system(df2.loc[[atoms[1]], ['x', 'y', 'z']], np.array([1, 0, 0.]), df2[['x', 'y', 'z']])\n",
    "df2[['x', 'y', 'z']] -= df2[['x', 'y', 'z']].mean()\n",
    "\n",
    "\n",
    "\n",
    "# choose the best rotation\n",
    "df = rotate_system_opt(df)\n",
    "df1 = rotate_system_opt(df1)\n",
    "df2 = rotate_system_opt(df2)\n",
    "\n",
    "# In some membranes, we cannot place \n",
    "# some molecules on top of others.\n",
    "\n",
    "mem_size = 10\n",
    "d0, d1 = gen_box(10, 60, 40)\n"
   ]
  },
  {
   "cell_type": "code",
   "execution_count": 4,
   "id": "9329a369",
   "metadata": {},
   "outputs": [],
   "source": [
    "molecules, molecules_for_first_layer = gen_box(mem_size, 50, 50)\n",
    "molecules = [list(i) for i in molecules]\n",
    "molecules_for_first_layer = [list(i) for i in molecules_for_first_layer]\n",
    "\n",
    "for arr in molecules, molecules_for_first_layer:\n",
    "    eu = [df1.copy() for _ in range(50)] \n",
    "    w = [df.copy() for _ in range(25)] + [df2.copy() for _ in range(25)]\n",
    "    np.random.shuffle(w)\n",
    "    for i in range(len(arr)):\n",
    "        for j in range(len(arr[0])):\n",
    "            if arr[i][j] == 0:\n",
    "                arr[i][j] = eu.pop()\n",
    "            else:\n",
    "                arr[i][j] = w.pop()"
   ]
  },
  {
   "cell_type": "markdown",
   "id": "221452cf",
   "metadata": {},
   "source": [
    "# Create box and show parametres"
   ]
  },
  {
   "cell_type": "code",
   "execution_count": 5,
   "id": "b1748586",
   "metadata": {},
   "outputs": [
    {
     "data": {
      "application/vnd.jupyter.widget-view+json": {
       "model_id": "64dfef069a65487f9663a1da27f08ffc",
       "version_major": 2,
       "version_minor": 0
      },
      "text/plain": [
       "  0%|          | 0/10 [00:00<?, ?it/s]"
      ]
     },
     "metadata": {},
     "output_type": "display_data"
    },
    {
     "data": {
      "application/vnd.jupyter.widget-view+json": {
       "model_id": "3dd6c04623aa44678432ac96ff30387d",
       "version_major": 2,
       "version_minor": 0
      },
      "text/plain": [
       "  0%|          | 0/10 [00:00<?, ?it/s]"
      ]
     },
     "metadata": {},
     "output_type": "display_data"
    },
    {
     "name": "stdout",
     "output_type": "stream",
     "text": [
      "p = 115.18863866729203\n",
      "box size is\n",
      "x     81.247329\n",
      "y    208.226616\n",
      "z    204.623279\n",
      "dtype: float64\n"
     ]
    }
   ],
   "source": [
    "system_for_first_layer = make_raws_box(molecules_for_first_layer, molecules[0][0], 14, mem_size, mem_size)\n",
    "\n",
    "system = make_raws_box(molecules, molecules[0][0], 14, mem_size, mem_size)\n",
    "\n",
    "mean = system[['x', 'y', 'z']].mean()\n",
    "system.loc[:, ['x', 'y', 'z']] -= mean\n",
    "r = R.from_euler('y', 180, degrees=True)\n",
    "second_layer = system.copy()\n",
    "second_layer.loc[:, ['x', 'y', 'z']] = r.apply(system[['x', 'y', 'z']])\n",
    "second_layer['resnum'] += system.resnum.max()\n",
    "second_layer[['x']] += 31 # change penetration by moving layer\n",
    "# second_layer.loc[:, ['x', 'y']] += mean.values[:2]\n",
    "\n",
    "system = pd.concat([system_for_first_layer, second_layer])\n",
    "desc = system.loc[:, ['x', 'y', 'z']].describe()\n",
    "a = desc.loc['max'] - desc.loc['min']\n",
    "v = a['x'] * a['y'] * a['z']\n",
    "masses = {'H': 1, 'C': 12, 'N': 14, 'O': 16}\n",
    "system['m'] = system.atType.apply(lambda x: masses[x])\n",
    "print('p =', system.m.sum()/v * 1660)\n",
    "d = system[['x', 'y', 'z']].describe()\n",
    "print('box size is\\n', d.loc['max'] - d.loc['min'], sep='')\n",
    "mass = []\n",
    "system.to_csv('not_opt.csv', index=False)\n",
    "# for i in tqdm(range(1, 201)):\n",
    "#     dft0 = system.loc[system.resnum == i, ['x', 'y', 'z']]\n",
    "#     dft1 = system.loc[system.resnum != i, ['x', 'y', 'z']]\n",
    "#     mass.append(euclidean_distances(dft0, dft1).min())\n",
    "\n",
    "# sorted(mass)[:10] # 0.61"
   ]
  },
  {
   "cell_type": "code",
   "execution_count": 6,
   "id": "1f15e60d",
   "metadata": {},
   "outputs": [
    {
     "ename": "KeyboardInterrupt",
     "evalue": "",
     "output_type": "error",
     "traceback": [
      "\u001b[1;31m---------------------------------------------------------------------------\u001b[0m",
      "\u001b[1;31mKeyboardInterrupt\u001b[0m                         Traceback (most recent call last)",
      "\u001b[1;32m~\\AppData\\Local\\Temp\\ipykernel_13480\\1608722713.py\u001b[0m in \u001b[0;36m<module>\u001b[1;34m\u001b[0m\n\u001b[1;32m----> 1\u001b[1;33m \u001b[0mwrite_pdb\u001b[0m\u001b[1;33m(\u001b[0m\u001b[0msystem\u001b[0m\u001b[1;33m)\u001b[0m\u001b[1;33m\u001b[0m\u001b[1;33m\u001b[0m\u001b[0m\n\u001b[0m",
      "\u001b[1;32m~\\AppData\\Local\\Temp\\ipykernel_13480\\127944802.py\u001b[0m in \u001b[0;36mwrite_pdb\u001b[1;34m(system, file)\u001b[0m\n\u001b[0;32m     89\u001b[0m     \u001b[1;32mwith\u001b[0m \u001b[0mopen\u001b[0m\u001b[1;33m(\u001b[0m\u001b[0mfile\u001b[0m\u001b[1;33m,\u001b[0m \u001b[1;34m'w'\u001b[0m\u001b[1;33m)\u001b[0m \u001b[1;32mas\u001b[0m \u001b[0mfile\u001b[0m\u001b[1;33m:\u001b[0m\u001b[1;33m\u001b[0m\u001b[1;33m\u001b[0m\u001b[0m\n\u001b[0;32m     90\u001b[0m         \u001b[1;32mfor\u001b[0m \u001b[0mi\u001b[0m \u001b[1;32min\u001b[0m \u001b[0mrange\u001b[0m\u001b[1;33m(\u001b[0m\u001b[0msystem\u001b[0m\u001b[1;33m.\u001b[0m\u001b[0mshape\u001b[0m\u001b[1;33m[\u001b[0m\u001b[1;36m0\u001b[0m\u001b[1;33m]\u001b[0m\u001b[1;33m)\u001b[0m\u001b[1;33m:\u001b[0m\u001b[1;33m\u001b[0m\u001b[1;33m\u001b[0m\u001b[0m\n\u001b[1;32m---> 91\u001b[1;33m             \u001b[1;32mif\u001b[0m \u001b[0mi\u001b[0m \u001b[1;33m>\u001b[0m \u001b[1;36m1\u001b[0m \u001b[1;32mand\u001b[0m \u001b[0msystem\u001b[0m\u001b[1;33m.\u001b[0m\u001b[0miloc\u001b[0m\u001b[1;33m[\u001b[0m\u001b[0mi\u001b[0m\u001b[1;33m]\u001b[0m\u001b[1;33m.\u001b[0m\u001b[0mresnum\u001b[0m \u001b[1;33m!=\u001b[0m \u001b[0msystem\u001b[0m\u001b[1;33m.\u001b[0m\u001b[0miloc\u001b[0m\u001b[1;33m[\u001b[0m\u001b[0mi\u001b[0m\u001b[1;33m-\u001b[0m\u001b[1;36m1\u001b[0m\u001b[1;33m]\u001b[0m\u001b[1;33m.\u001b[0m\u001b[0mresnum\u001b[0m\u001b[1;33m:\u001b[0m\u001b[1;33m\u001b[0m\u001b[1;33m\u001b[0m\u001b[0m\n\u001b[0m\u001b[0;32m     92\u001b[0m                 \u001b[0mfile\u001b[0m\u001b[1;33m.\u001b[0m\u001b[0mwrite\u001b[0m\u001b[1;33m(\u001b[0m\u001b[1;34m'TER\\n'\u001b[0m\u001b[1;33m)\u001b[0m\u001b[1;33m\u001b[0m\u001b[1;33m\u001b[0m\u001b[0m\n\u001b[0;32m     93\u001b[0m \u001b[1;33m\u001b[0m\u001b[0m\n",
      "\u001b[1;32mc:\\Users\\Alex\\anaconda3\\lib\\site-packages\\pandas\\core\\indexing.py\u001b[0m in \u001b[0;36m__getitem__\u001b[1;34m(self, key)\u001b[0m\n\u001b[0;32m    965\u001b[0m \u001b[1;33m\u001b[0m\u001b[0m\n\u001b[0;32m    966\u001b[0m             \u001b[0mmaybe_callable\u001b[0m \u001b[1;33m=\u001b[0m \u001b[0mcom\u001b[0m\u001b[1;33m.\u001b[0m\u001b[0mapply_if_callable\u001b[0m\u001b[1;33m(\u001b[0m\u001b[0mkey\u001b[0m\u001b[1;33m,\u001b[0m \u001b[0mself\u001b[0m\u001b[1;33m.\u001b[0m\u001b[0mobj\u001b[0m\u001b[1;33m)\u001b[0m\u001b[1;33m\u001b[0m\u001b[1;33m\u001b[0m\u001b[0m\n\u001b[1;32m--> 967\u001b[1;33m             \u001b[1;32mreturn\u001b[0m \u001b[0mself\u001b[0m\u001b[1;33m.\u001b[0m\u001b[0m_getitem_axis\u001b[0m\u001b[1;33m(\u001b[0m\u001b[0mmaybe_callable\u001b[0m\u001b[1;33m,\u001b[0m \u001b[0maxis\u001b[0m\u001b[1;33m=\u001b[0m\u001b[0maxis\u001b[0m\u001b[1;33m)\u001b[0m\u001b[1;33m\u001b[0m\u001b[1;33m\u001b[0m\u001b[0m\n\u001b[0m\u001b[0;32m    968\u001b[0m \u001b[1;33m\u001b[0m\u001b[0m\n\u001b[0;32m    969\u001b[0m     \u001b[1;32mdef\u001b[0m \u001b[0m_is_scalar_access\u001b[0m\u001b[1;33m(\u001b[0m\u001b[0mself\u001b[0m\u001b[1;33m,\u001b[0m \u001b[0mkey\u001b[0m\u001b[1;33m:\u001b[0m \u001b[0mtuple\u001b[0m\u001b[1;33m)\u001b[0m\u001b[1;33m:\u001b[0m\u001b[1;33m\u001b[0m\u001b[1;33m\u001b[0m\u001b[0m\n",
      "\u001b[1;32mc:\\Users\\Alex\\anaconda3\\lib\\site-packages\\pandas\\core\\indexing.py\u001b[0m in \u001b[0;36m_getitem_axis\u001b[1;34m(self, key, axis)\u001b[0m\n\u001b[0;32m   1523\u001b[0m             \u001b[0mself\u001b[0m\u001b[1;33m.\u001b[0m\u001b[0m_validate_integer\u001b[0m\u001b[1;33m(\u001b[0m\u001b[0mkey\u001b[0m\u001b[1;33m,\u001b[0m \u001b[0maxis\u001b[0m\u001b[1;33m)\u001b[0m\u001b[1;33m\u001b[0m\u001b[1;33m\u001b[0m\u001b[0m\n\u001b[0;32m   1524\u001b[0m \u001b[1;33m\u001b[0m\u001b[0m\n\u001b[1;32m-> 1525\u001b[1;33m             \u001b[1;32mreturn\u001b[0m \u001b[0mself\u001b[0m\u001b[1;33m.\u001b[0m\u001b[0mobj\u001b[0m\u001b[1;33m.\u001b[0m\u001b[0m_ixs\u001b[0m\u001b[1;33m(\u001b[0m\u001b[0mkey\u001b[0m\u001b[1;33m,\u001b[0m \u001b[0maxis\u001b[0m\u001b[1;33m=\u001b[0m\u001b[0maxis\u001b[0m\u001b[1;33m)\u001b[0m\u001b[1;33m\u001b[0m\u001b[1;33m\u001b[0m\u001b[0m\n\u001b[0m\u001b[0;32m   1526\u001b[0m \u001b[1;33m\u001b[0m\u001b[0m\n\u001b[0;32m   1527\u001b[0m     \u001b[1;32mdef\u001b[0m \u001b[0m_get_slice_axis\u001b[0m\u001b[1;33m(\u001b[0m\u001b[0mself\u001b[0m\u001b[1;33m,\u001b[0m \u001b[0mslice_obj\u001b[0m\u001b[1;33m:\u001b[0m \u001b[0mslice\u001b[0m\u001b[1;33m,\u001b[0m \u001b[0maxis\u001b[0m\u001b[1;33m:\u001b[0m \u001b[0mint\u001b[0m\u001b[1;33m)\u001b[0m\u001b[1;33m:\u001b[0m\u001b[1;33m\u001b[0m\u001b[1;33m\u001b[0m\u001b[0m\n",
      "\u001b[1;32mc:\\Users\\Alex\\anaconda3\\lib\\site-packages\\pandas\\core\\frame.py\u001b[0m in \u001b[0;36m_ixs\u001b[1;34m(self, i, axis)\u001b[0m\n\u001b[0;32m   3422\u001b[0m         \u001b[1;31m# irow\u001b[0m\u001b[1;33m\u001b[0m\u001b[1;33m\u001b[0m\u001b[0m\n\u001b[0;32m   3423\u001b[0m         \u001b[1;32mif\u001b[0m \u001b[0maxis\u001b[0m \u001b[1;33m==\u001b[0m \u001b[1;36m0\u001b[0m\u001b[1;33m:\u001b[0m\u001b[1;33m\u001b[0m\u001b[1;33m\u001b[0m\u001b[0m\n\u001b[1;32m-> 3424\u001b[1;33m             \u001b[0mnew_values\u001b[0m \u001b[1;33m=\u001b[0m \u001b[0mself\u001b[0m\u001b[1;33m.\u001b[0m\u001b[0m_mgr\u001b[0m\u001b[1;33m.\u001b[0m\u001b[0mfast_xs\u001b[0m\u001b[1;33m(\u001b[0m\u001b[0mi\u001b[0m\u001b[1;33m)\u001b[0m\u001b[1;33m\u001b[0m\u001b[1;33m\u001b[0m\u001b[0m\n\u001b[0m\u001b[0;32m   3425\u001b[0m \u001b[1;33m\u001b[0m\u001b[0m\n\u001b[0;32m   3426\u001b[0m             \u001b[1;31m# if we are a copy, mark as such\u001b[0m\u001b[1;33m\u001b[0m\u001b[1;33m\u001b[0m\u001b[0m\n",
      "\u001b[1;32mc:\\Users\\Alex\\anaconda3\\lib\\site-packages\\pandas\\core\\internals\\managers.py\u001b[0m in \u001b[0;36mfast_xs\u001b[1;34m(self, loc)\u001b[0m\n\u001b[0;32m   1016\u001b[0m             \u001b[1;31m# result[blk.mgr_locs] = blk._slice((slice(None), loc))\u001b[0m\u001b[1;33m\u001b[0m\u001b[1;33m\u001b[0m\u001b[0m\n\u001b[0;32m   1017\u001b[0m             \u001b[1;32mfor\u001b[0m \u001b[0mi\u001b[0m\u001b[1;33m,\u001b[0m \u001b[0mrl\u001b[0m \u001b[1;32min\u001b[0m \u001b[0menumerate\u001b[0m\u001b[1;33m(\u001b[0m\u001b[0mblk\u001b[0m\u001b[1;33m.\u001b[0m\u001b[0mmgr_locs\u001b[0m\u001b[1;33m)\u001b[0m\u001b[1;33m:\u001b[0m\u001b[1;33m\u001b[0m\u001b[1;33m\u001b[0m\u001b[0m\n\u001b[1;32m-> 1018\u001b[1;33m                 \u001b[0mresult\u001b[0m\u001b[1;33m[\u001b[0m\u001b[0mrl\u001b[0m\u001b[1;33m]\u001b[0m \u001b[1;33m=\u001b[0m \u001b[0mblk\u001b[0m\u001b[1;33m.\u001b[0m\u001b[0miget\u001b[0m\u001b[1;33m(\u001b[0m\u001b[1;33m(\u001b[0m\u001b[0mi\u001b[0m\u001b[1;33m,\u001b[0m \u001b[0mloc\u001b[0m\u001b[1;33m)\u001b[0m\u001b[1;33m)\u001b[0m\u001b[1;33m\u001b[0m\u001b[1;33m\u001b[0m\u001b[0m\n\u001b[0m\u001b[0;32m   1019\u001b[0m \u001b[1;33m\u001b[0m\u001b[0m\n\u001b[0;32m   1020\u001b[0m         \u001b[1;32mif\u001b[0m \u001b[0mimmutable_ea\u001b[0m\u001b[1;33m:\u001b[0m\u001b[1;33m\u001b[0m\u001b[1;33m\u001b[0m\u001b[0m\n",
      "\u001b[1;31mKeyboardInterrupt\u001b[0m: "
     ]
    }
   ],
   "source": [
    "write_pdb(system)"
   ]
  },
  {
   "cell_type": "markdown",
   "id": "88d2079c",
   "metadata": {},
   "source": [
    "# Optimization of membana\n",
    "I use dual anneling, lennard - johnes potential as optimizer \n",
    "parametres - angles and movments of molecule"
   ]
  },
  {
   "cell_type": "code",
   "execution_count": 6,
   "id": "6ef6c473",
   "metadata": {},
   "outputs": [
    {
     "name": "stdout",
     "output_type": "stream",
     "text": [
      "72\n"
     ]
    },
    {
     "data": {
      "application/vnd.jupyter.widget-view+json": {
       "model_id": "a2fb01a9a3c442468fcd8c7dd2f41b50",
       "version_major": 2,
       "version_minor": 0
      },
      "text/plain": [
       "  0%|          | 0/200 [00:00<?, ?it/s]"
      ]
     },
     "metadata": {},
     "output_type": "display_data"
    },
    {
     "data": {
      "application/vnd.jupyter.widget-view+json": {
       "model_id": "683673cffdd74a08b659a00e3a4d3b69",
       "version_major": 2,
       "version_minor": 0
      },
      "text/plain": [
       "  0%|          | 0/200 [00:00<?, ?it/s]"
      ]
     },
     "metadata": {},
     "output_type": "display_data"
    },
    {
     "name": "stdout",
     "output_type": "stream",
     "text": [
      "Wall time: 16min 34s\n"
     ]
    }
   ],
   "source": [
    "%%time\n",
    "def write_pdb(system, file='test.pdb'):\n",
    "    system['atType'] = system.atType.apply(lambda x: x[0])\n",
    "    with open(file, 'w') as file:\n",
    "        for i in range(system.shape[0]):\n",
    "            if i > 1 and system.iloc[i].resnum != system.iloc[i-1].resnum:\n",
    "                file.write('TER\\n')\n",
    "\n",
    "            file.write('HETATM{:5d} {:>4s} {:<4s} {:<4d}    {:8.3f}{:8.3f}{:8.3f}  0.00  0.00               {:s}\\n'\n",
    "                       .format(*system.iloc[i][['atnum', 'atom', 'res', 'resnum', 'x', 'y', 'z', 'atType']]))\n",
    "        file.write('END\\n')\n",
    "        \n",
    "\n",
    "def choose_res(df, resnum):\n",
    "    res = df.loc[df.resnum == resnum, ['x', 'y', 'z']].values\n",
    "    system = df.loc[df.resnum != resnum, ['x', 'y', 'z']].values\n",
    "    return system, res\n",
    "\n",
    "\n",
    "def make_tree(system):\n",
    "    return BallTree(system, leaf_size=3)\n",
    "\n",
    "\n",
    "def calc_dist(tree, X):\n",
    "    dist, _ = tree.query(X, k=10)\n",
    "    dist = np.where(dist < 4, dist, 4)\n",
    "    return dist\n",
    "\n",
    "d = 3.5\n",
    "sig = d / 2**(1/6)\n",
    "e = 1e1\n",
    "pot612 = lambda r: 4*e*( (sig/r)**12 - (sig/r)**6 )\n",
    "\n",
    "def E(dist):\n",
    "    return pot612(dist).sum()\n",
    "\n",
    "\n",
    "def move_rot(X, res):\n",
    "    res = res.copy()\n",
    "    r = R.from_euler('x', X[0], degrees=True)\n",
    "    res_mean = res.mean(axis=0)\n",
    "    res -= res_mean\n",
    "    res = r.apply(res)\n",
    "    res += res_mean\n",
    "    res += X[1:]\n",
    "    return res\n",
    "\n",
    "\n",
    "def f(X, res, tree):\n",
    "    new_res = move_rot(X, res)\n",
    "    return E(calc_dist(tree, new_res))\n",
    "\n",
    "\n",
    "\n",
    "def opt(df, res_to_opt, nit=1000):\n",
    "    system, res = choose_res(df, res_to_opt)\n",
    "    tree = make_tree(system)\n",
    "    lw = [0, -1.5, -1.5, -0.1]\n",
    "    up = [360, 1.5, 1.5, 0.1]\n",
    "    bounds=list(zip(lw, up))\n",
    "    result = optimize.dual_annealing(f, bounds=bounds, maxiter=nit, args=(res, tree))\n",
    "    new_res = move_rot(result.x, res)\n",
    "    new_df = df.copy()\n",
    "    new_df.loc[new_df.resnum == res_to_opt, ['x', 'y', 'z']] = new_res\n",
    "    i = res_to_opt\n",
    "    dft0 = df.loc[df.resnum == i, ['x', 'y', 'z']]\n",
    "    dft1 = df.loc[df.resnum != i, ['x', 'y', 'z']]\n",
    "    d_old = euclidean_distances(dft0, dft1).min()\n",
    "    dft0 = new_df.loc[new_df.resnum == i, ['x', 'y', 'z']]\n",
    "    dft1 = new_df.loc[new_df.resnum != i, ['x', 'y', 'z']]\n",
    "    d_new = euclidean_distances(dft0, dft1).min()\n",
    "    if d_old < d_new:\n",
    "        return new_df\n",
    "    # print('FAIL')\n",
    "    return df\n",
    "\n",
    "\n",
    "df = pd.read_csv('not_opt.csv')\n",
    "\n",
    "gg = df.groupby('resnum').agg(x=('x', 'mean'), y=('y', 'mean'), z=('z', 'mean')).reset_index()\n",
    "print(len(set(gg.query('y > 52 or y < -52 or z > 52 or z < -52').resnum)))\n",
    "for j in range(2):\n",
    "    for i in tqdm(range(1, 201)):\n",
    "        if i not in set(gg.query('y > 52 or y < -52 or z > 52 or z < -52').resnum):\n",
    "            df = opt(df, i, 100)\n",
    "    df.to_csv(f'files/w_{j}.csv')"
   ]
  },
  {
   "cell_type": "markdown",
   "id": "8951444b",
   "metadata": {},
   "source": [
    "### Finally we have got this:\n",
    "\n",
    "<img src=\"membrana.png\">"
   ]
  }
 ],
 "metadata": {
  "kernelspec": {
   "display_name": "Python 3.9.7 ('base')",
   "language": "python",
   "name": "python3"
  },
  "language_info": {
   "codemirror_mode": {
    "name": "ipython",
    "version": 3
   },
   "file_extension": ".py",
   "mimetype": "text/x-python",
   "name": "python",
   "nbconvert_exporter": "python",
   "pygments_lexer": "ipython3",
   "version": "3.9.7"
  },
  "vscode": {
   "interpreter": {
    "hash": "6bcd08b9d07a1bbf1ca3d2e85cf520478653b674492b433d59be3f14d722c959"
   }
  }
 },
 "nbformat": 4,
 "nbformat_minor": 5
}
