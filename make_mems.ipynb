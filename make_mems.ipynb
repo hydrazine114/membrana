{
 "cells": [
  {
   "cell_type": "code",
   "execution_count": 1,
   "id": "b138997b-463f-4f2b-a19d-f07f239de687",
   "metadata": {
    "tags": []
   },
   "outputs": [],
   "source": [
    "import numpy as np\n",
    "import pandas as pd\n",
    "from scipy.spatial.transform import Rotation as R\n",
    "\n",
    "from scipy import optimize\n",
    "from sklearn.neighbors import KDTree\n",
    "from sklearn.metrics.pairwise import euclidean_distances\n",
    "from sklearn.neighbors import BallTree\n",
    "from tqdm.notebook import tqdm\n",
    "\n",
    "from readers_writers import *"
   ]
  },
  {
   "cell_type": "markdown",
   "id": "5d3f4e99",
   "metadata": {},
   "source": [
    "# Create not optimized membrana"
   ]
  },
  {
   "cell_type": "markdown",
   "id": "23e1ad86",
   "metadata": {},
   "source": [
    "### all functions you need for creating not optimized mem"
   ]
  },
  {
   "cell_type": "code",
   "execution_count": 2,
   "id": "c3217dda",
   "metadata": {},
   "outputs": [],
   "source": [
    "np.random.seed(41)\n",
    "\n",
    "def angle(vector_1, vector_2): # find angle between vectors, radian\n",
    "    unit_vector_1 = vector_1 / np.linalg.norm(vector_1)\n",
    "    unit_vector_2 = vector_2 / np.linalg.norm(vector_2)\n",
    "    dot_product = np.dot(unit_vector_1, unit_vector_2)\n",
    "    return np.arccos(dot_product)\n",
    "\n",
    "def rotate_system(a: np.array, b: np.array, coord: np.array) -> np.array:\n",
    "    \"\"\"\n",
    "    Parameters\n",
    "    ----------\n",
    "    a : rotatable vector\n",
    "    b : direction vector\n",
    "    coord : coordinations of our system\n",
    "    Returns\n",
    "    -------\n",
    "    System will be rotate at the same angle as we rotate vector a to make it parallel with vector b\n",
    "    \"\"\"\n",
    "    if np.linalg.norm(np.cross(a, b)) == 0: # calc mult vector, in case of parallel vector we choose any normal vector\n",
    "        if a[0] == 0:\n",
    "            rv = [np.pi, 0, 0]\n",
    "        else:\n",
    "            rv = np.array([-(a[1]+a[2])/a[0], 1, 1])/np.linalg.norm([-(a[1]+a[2])/a[0], 1, 1]) * np.pi\n",
    "    else:\n",
    "        rv = np.cross(a, b)/np.linalg.norm(np.cross(a, b)) * angle(a, b)\n",
    "    \n",
    "    r = R.from_rotvec(rv)\n",
    "    return r.apply(coord)\n",
    "\n",
    "\n",
    "# |------------------------- build membrana -------------------------|\n",
    "def add_mol(df, system, r_c, i=0, j=0):\n",
    "    new_mol = df.copy()\n",
    "    random_angle = np.random.random()*360\n",
    "    r = R.from_euler('x', random_angle, degrees=True)\n",
    "    new_mol[['x', 'y', 'z']] = r.apply(new_mol[['x', 'y', 'z']])\n",
    "    new_mol[['x', 'y', 'z']] += np.array([0, r_c, r_c]) * np.array([0, i, j])\n",
    "    new_mol['resnum'] = system.resnum.iloc[-1] + 1\n",
    "    return pd.concat([system, new_mol])\n",
    "\n",
    "\n",
    "def make_layer(molecules, system, r_c=14.5, d_y=7, d_z=7):\n",
    "    n = 1\n",
    "    for i in tqdm(range(d_y)):\n",
    "        for j in range(d_z):\n",
    "            if i+j == 0:\n",
    "                continue\n",
    "            system = add_mol(molecules[i][j], system, r_c, i=i, j=j)\n",
    "            n += 1\n",
    "    \n",
    "    system['atnum'] = np.arange(1, system.shape[0] + 1)\n",
    "    return system\n",
    "\n",
    "\n",
    "def gen_layers_pattern(k=6, eu=70, w=30):\n",
    "    pattern_layer0 = [0 for i in range(eu)] + [1 for i in range(w)]\n",
    "    np.random.shuffle(pattern_layer0)\n",
    "    pattern_layer0 = np.array(pattern_layer0)\n",
    "    pattern_layer1 = np.where(pattern_layer0 == 1, 0, 1)\n",
    "    idx = np.argwhere(pattern_layer1 == 1)\n",
    "    np.random.shuffle(idx)\n",
    "    idx = idx[:eu - w]\n",
    "    pattern_layer1[idx] = 0\n",
    "    pattern_layer0, pattern_layer1 = pattern_layer0.reshape((k, k)), pattern_layer1.reshape((k, k))\n",
    "    pattern_layer0 = pattern_layer0[:, ::-1]\n",
    "    return pattern_layer0, pattern_layer1\n",
    "\n",
    "# |-----------for optimize molecule location -------------|\n",
    "\n",
    "def e(df):\n",
    "    return (((df.z**2 + df.y**2))**0.5).max()\n",
    "\n",
    "def rotate_system_foropt(angles, df):\n",
    "    r = R.from_euler('xyz', angles, degrees=True)\n",
    "    df[['x', 'y', 'z']] = r.apply(df[['x', 'y', 'z']])\n",
    "    return df\n",
    "\n",
    "def f(angles, df):\n",
    "    dft = df.copy()\n",
    "    dft = rotate_system_foropt(angles, dft)\n",
    "    return e(dft)\n",
    "\n",
    "def rotate_system_opt(df):\n",
    "    lw = [-90] * 3\n",
    "    up = [90] * 3\n",
    "    bounds=list(zip(lw, up))\n",
    "    res = optimize.dual_annealing(f, bounds=bounds, maxiter=100, args=(df,))\n",
    "    \n",
    "    df = rotate_system_foropt(res.x, df)\n",
    "    print(e(df))\n",
    "    return df\n",
    "\n",
    "\n",
    "# |--------------system info---------------|\n",
    "def calc_p_fromgro(df, nbin=100, axis='z'):\n",
    "    gg = df[['x', 'y', 'z']].max() - df[['x', 'y', 'z']].min()\n",
    "    \n",
    "    df['bin'] = pd.cut(df[axis], bins=nbin)\n",
    "    v = df.bin.iloc[0].length * gg[0] * gg[1]\n",
    "    gg = df.groupby('bin').agg(\n",
    "                            m=('m', 'sum')\n",
    "                            ).reset_index()\n",
    "    v = v/1000\n",
    "    gg['p'] = gg['m'] / v * 1.66\n",
    "    gg[axis] = gg.bin.apply(lambda x: x.mid).astype(np.float32)\n",
    "    return gg\n",
    "\n",
    "def system_info(system):\n",
    "    min_distances = []\n",
    "    for resnum in tqdm(system.resnum.unique()):\n",
    "        tree = BallTree(system.loc[system.resnum != resnum, ['x', 'y', 'z']], leaf_size=3)\n",
    "        dist, idx = tree.query(system.loc[system.resnum == resnum, ['x', 'y', 'z']], k=1)\n",
    "        min_distances.append(dist.min())\n",
    "\n",
    "    min_distances.sort()\n",
    "    print(min_distances[:10])\n",
    "    masses = {'H': 1, 'C': 12, 'N': 14, 'O': 16}\n",
    "    system['m'] = system.atType.apply(lambda x: masses[x])\n",
    "    p = calc_p_fromgro(system, 30, 'x')\n",
    "    p.plot(x='x', y='p')"
   ]
  },
  {
   "cell_type": "code",
   "execution_count": 3,
   "id": "843bff78",
   "metadata": {},
   "outputs": [
    {
     "name": "stdout",
     "output_type": "stream",
     "text": [
      "9.617905271235365\n",
      "5.453598638352529\n",
      "7.160471947347766\n"
     ]
    }
   ],
   "source": [
    "# |------------------------ lets ROCK! ------------------ |\n",
    "# read molecules and rotate them as it is needed by guiding atoms\n",
    "\n",
    "df = read_pdb('files/KMA_W.pdb', ) \n",
    "atoms = (df[df.atom == 'O66'].index[0],\n",
    "         df[df.atom == 'C59'].index[0])\n",
    "\n",
    "df.loc[:, ['x', 'y', 'z']] = df.loc[:, ['x', 'y', 'z']] - df.loc[[atoms[0]], ['x', 'y', 'z']].values\n",
    "df[['x', 'y', 'z']] = rotate_system(df.loc[[atoms[1]], ['x', 'y', 'z']], np.array([1, 0, 0.]), df[['x', 'y', 'z']])\n",
    "df[['x', 'y', 'z']] -= df[['x', 'y', 'z']].mean()\n",
    "\n",
    "df1 = read_pdb('files/AMA_eU.pdb')\n",
    "atoms = (df1[df1.atom == 'O81'].index[0],\n",
    "         df1[df1.atom == 'C70'].index[0]) \n",
    "\n",
    "df1.loc[:, ['x', 'y', 'z']] = df1.loc[:, ['x', 'y', 'z']] - df1.loc[[atoms[0]], ['x', 'y', 'z']].values\n",
    "df1[['x', 'y', 'z']] = rotate_system(df1.loc[[atoms[1]], ['x', 'y', 'z']], np.array([1, 0, 0.]), df1[['x', 'y', 'z']])\n",
    "df1[['x', 'y', 'z']] -= df1[['x', 'y', 'z']].mean()\n",
    "\n",
    "df2 = read_pdb('files/MMA_good_W.pdb')\n",
    "atoms = (df2[df2.atom == 'O65'].index[0],\n",
    "         df2[df2.atom == 'C18'].index[0])\n",
    "\n",
    "df2.loc[:, ['x', 'y', 'z']] = df2.loc[:, ['x', 'y', 'z']] - df2.loc[[atoms[0]], ['x', 'y', 'z']].values\n",
    "df2[['x', 'y', 'z']] = rotate_system(df2.loc[[atoms[1]], ['x', 'y', 'z']], np.array([1, 0, 0.]), df2[['x', 'y', 'z']])\n",
    "df2[['x', 'y', 'z']] -= df2[['x', 'y', 'z']].mean()\n",
    "\n",
    "\n",
    "\n",
    "# choose the best rotation\n",
    "df = rotate_system_opt(df)\n",
    "df1 = rotate_system_opt(df1)\n",
    "df2 = rotate_system_opt(df2)\n",
    "\n",
    "# move kma and mma a little bit\n",
    "df['x'] -= 7\n",
    "df2['x'] -= 7\n"
   ]
  },
  {
   "cell_type": "code",
   "execution_count": 4,
   "id": "9329a369",
   "metadata": {},
   "outputs": [],
   "source": [
    "# In some membranes, we cannot place \n",
    "# some molecules on top of others.\n",
    "\n",
    "mem_size = 10\n",
    "pattern_layer0, pattern_layer1 = gen_layers_pattern(mem_size, 50, 50)"
   ]
  },
  {
   "cell_type": "code",
   "execution_count": 5,
   "id": "197764ac",
   "metadata": {},
   "outputs": [],
   "source": [
    "pattern_layer0 = [list(i) for i in pattern_layer0]\n",
    "pattern_layer1 = [list(i) for i in pattern_layer1]\n",
    "\n",
    "for arr in pattern_layer0, pattern_layer1:\n",
    "    eu = [df1.copy() for _ in range(50)] \n",
    "    w = [df.copy() for _ in range(25)] + [df2.copy() for _ in range(25)]\n",
    "    np.random.shuffle(w)\n",
    "    for i in range(len(arr)):\n",
    "        for j in range(len(arr[0])):\n",
    "            if arr[i][j] == 0:\n",
    "                arr[i][j] = eu.pop()\n",
    "            else:\n",
    "                arr[i][j] = w.pop()"
   ]
  },
  {
   "cell_type": "markdown",
   "id": "221452cf",
   "metadata": {},
   "source": [
    "# Create box and show parametres"
   ]
  },
  {
   "cell_type": "code",
   "execution_count": 6,
   "id": "b1748586",
   "metadata": {},
   "outputs": [
    {
     "data": {
      "application/vnd.jupyter.widget-view+json": {
       "model_id": "bacee125e8d043afb2393cc5cab9bf26",
       "version_major": 2,
       "version_minor": 0
      },
      "text/plain": [
       "  0%|          | 0/10 [00:00<?, ?it/s]"
      ]
     },
     "metadata": {},
     "output_type": "display_data"
    },
    {
     "data": {
      "application/vnd.jupyter.widget-view+json": {
       "model_id": "095b7e331c704fb8a9004b4e527544a6",
       "version_major": 2,
       "version_minor": 0
      },
      "text/plain": [
       "  0%|          | 0/10 [00:00<?, ?it/s]"
      ]
     },
     "metadata": {},
     "output_type": "display_data"
    },
    {
     "data": {
      "image/png": "[encoded data removed]",
      "text/plain": [
       "<Figure size 640x480 with 1 Axes>"
      ]
     },
     "metadata": {},
     "output_type": "display_data"
    }
   ],
   "source": [
    "layer0 = make_layer(pattern_layer0, pattern_layer0[0][0], 15.5, mem_size, mem_size)\n",
    "layer1 = make_layer(pattern_layer1, pattern_layer1[0][0], 15.5, mem_size, mem_size)\n",
    "\n",
    "r = R.from_euler('y', 180, degrees=True)\n",
    "mean = layer1[['x', 'y', 'z']].mean()\n",
    "layer1.loc[:, ['x', 'y', 'z']] -= mean\n",
    "layer1.loc[:, ['x', 'y', 'z']] = r.apply(layer1[['x', 'y', 'z']])\n",
    "layer1.loc[:, ['x', 'y', 'z']] += mean\n",
    "layer1['x'] += layer0.x.max() - layer1.x.min()\n",
    "layer1['resnum'] += layer0.resnum.max()\n",
    "\n",
    "\n",
    "\n",
    "penetration_rate = 55\n",
    "layer1['x'] -= penetration_rate\n",
    "system = pd.concat([layer0, layer1])\n",
    "\n",
    "masses = {'H': 1, 'C': 12, 'N': 14, 'O': 16}\n",
    "system['m'] = system.atType.apply(lambda x: masses[x])\n",
    "p = calc_p_fromgro(system, 30, 'x')\n",
    "p.plot(x='x', y='p')\n",
    "\n",
    "\n",
    "system.to_csv('not_opt.csv', index=False)"
   ]
  },
  {
   "cell_type": "code",
   "execution_count": 7,
   "id": "34e480f8",
   "metadata": {},
   "outputs": [
    {
     "data": {
      "application/vnd.jupyter.widget-view+json": {
       "model_id": "57c8525f46bf44a4ba069641ea13bd78",
       "version_major": 2,
       "version_minor": 0
      },
      "text/plain": [
       "  0%|          | 0/200 [00:00<?, ?it/s]"
      ]
     },
     "metadata": {},
     "output_type": "display_data"
    },
    {
     "data": {
      "text/plain": [
       "[0.120321586047202,\n",
       " 0.120321586047202,\n",
       " 0.12379833055901078,\n",
       " 0.12379833055901078,\n",
       " 0.12416811175624824,\n",
       " 0.12416811175624824,\n",
       " 0.13860094616076107,\n",
       " 0.13860094616076107,\n",
       " 0.15526926491447593,\n",
       " 0.15526926491447593]"
      ]
     },
     "execution_count": 7,
     "metadata": {},
     "output_type": "execute_result"
    }
   ],
   "source": [
    "min_distances = []\n",
    "for resnum in tqdm(system.resnum.unique()):\n",
    "    tree = BallTree(system.loc[system.resnum != resnum, ['x', 'y', 'z']], leaf_size=3)\n",
    "    dist, idx = tree.query(system.loc[system.resnum == resnum, ['x', 'y', 'z']], k=1)\n",
    "    min_distances.append(dist.min())\n",
    "\n",
    "min_distances.sort()\n",
    "min_distances[:10]"
   ]
  },
  {
   "cell_type": "markdown",
   "id": "88d2079c",
   "metadata": {},
   "source": [
    "# Optimization of membana\n",
    "I use dual anneling, lennard - johnes potential as optimizer \n",
    "parametres - angles and movments of molecule"
   ]
  },
  {
   "cell_type": "code",
   "execution_count": 18,
   "id": "6ef6c473",
   "metadata": {},
   "outputs": [
    {
     "name": "stdout",
     "output_type": "stream",
     "text": [
      "72\n"
     ]
    },
    {
     "data": {
      "application/vnd.jupyter.widget-view+json": {
       "model_id": "c1c0a941981241ce9667b0c7b1514d7f",
       "version_major": 2,
       "version_minor": 0
      },
      "text/plain": [
       "  0%|          | 0/200 [00:00<?, ?it/s]"
      ]
     },
     "metadata": {},
     "output_type": "display_data"
    },
    {
     "data": {
      "application/vnd.jupyter.widget-view+json": {
       "model_id": "1c2c936599a44b31a5f76e2c8614c9dd",
       "version_major": 2,
       "version_minor": 0
      },
      "text/plain": [
       "  0%|          | 0/200 [00:00<?, ?it/s]"
      ]
     },
     "metadata": {},
     "output_type": "display_data"
    },
    {
     "data": {
      "application/vnd.jupyter.widget-view+json": {
       "model_id": "9254369fc57147b08bccd015934af3e1",
       "version_major": 2,
       "version_minor": 0
      },
      "text/plain": [
       "  0%|          | 0/200 [00:00<?, ?it/s]"
      ]
     },
     "metadata": {},
     "output_type": "display_data"
    },
    {
     "data": {
      "application/vnd.jupyter.widget-view+json": {
       "model_id": "4a0f8b1c7d894ff4a2b57321f66d02a9",
       "version_major": 2,
       "version_minor": 0
      },
      "text/plain": [
       "  0%|          | 0/200 [00:00<?, ?it/s]"
      ]
     },
     "metadata": {},
     "output_type": "display_data"
    },
    {
     "data": {
      "application/vnd.jupyter.widget-view+json": {
       "model_id": "fbc01f6282494f39801add55e20ac0de",
       "version_major": 2,
       "version_minor": 0
      },
      "text/plain": [
       "  0%|          | 0/200 [00:00<?, ?it/s]"
      ]
     },
     "metadata": {},
     "output_type": "display_data"
    },
    {
     "name": "stdout",
     "output_type": "stream",
     "text": [
      "Wall time: 1h 36s\n"
     ]
    }
   ],
   "source": [
    "%%time\n",
    "def write_pdb(system, file='test.pdb'):\n",
    "    system['atType'] = system.atType.apply(lambda x: x[0])\n",
    "    with open(file, 'w') as file:\n",
    "        for i in range(system.shape[0]):\n",
    "            if i > 1 and system.iloc[i].resnum != system.iloc[i-1].resnum:\n",
    "                file.write('TER\\n')\n",
    "\n",
    "            file.write('HETATM{:5d} {:>4s} {:<4s} {:<4d}    {:8.3f}{:8.3f}{:8.3f}  0.00  0.00               {:s}\\n'\n",
    "                       .format(*system.iloc[i][['atnum', 'atom', 'res', 'resnum', 'x', 'y', 'z', 'atType']]))\n",
    "        file.write('END\\n')\n",
    "        \n",
    "\n",
    "def choose_res(df, resnum):\n",
    "    res = df.loc[df.resnum == resnum, ['x', 'y', 'z']].values\n",
    "    system = df.loc[df.resnum != resnum, ['x', 'y', 'z']].values\n",
    "    return system, res\n",
    "\n",
    "\n",
    "def make_tree(system):\n",
    "    return BallTree(system, leaf_size=3)\n",
    "\n",
    "\n",
    "def calc_dist(tree, X):\n",
    "    dist, _ = tree.query(X, k=10)\n",
    "    dist = np.where(dist < 4, dist, 4)\n",
    "    return dist\n",
    "\n",
    "d = 3.5\n",
    "sig = d / 2**(1/6)\n",
    "e = 1e1\n",
    "pot612 = lambda r: 4*e*( (sig/r)**12 - (sig/r)**6 )\n",
    "\n",
    "def E(dist):\n",
    "    return pot612(dist).sum()\n",
    "\n",
    "\n",
    "def move_rot(X, res):\n",
    "    res = res.copy()\n",
    "    r = R.from_euler('x', X[0], degrees=True)\n",
    "    res_mean = res.mean(axis=0)\n",
    "    res -= res_mean\n",
    "    res = r.apply(res)\n",
    "    res += res_mean\n",
    "    res += X[1:]\n",
    "    return res\n",
    "\n",
    "\n",
    "def f(X, res, tree):\n",
    "    new_res = move_rot(X, res)\n",
    "    return E(calc_dist(tree, new_res))\n",
    "\n",
    "\n",
    "\n",
    "def opt(df, res_to_opt, nit=1000):\n",
    "    system, res = choose_res(df, res_to_opt)\n",
    "    tree = make_tree(system)\n",
    "    lw = [0, -1.5, -1.5, -0.05]\n",
    "    up = [360, 1.5, 1.5, 0.05]\n",
    "    bounds=list(zip(lw, up))\n",
    "    result = optimize.dual_annealing(f, bounds=bounds, maxiter=nit, args=(res, tree))\n",
    "    new_res = move_rot(result.x, res)\n",
    "    new_df = df.copy()\n",
    "    new_df.loc[new_df.resnum == res_to_opt, ['x', 'y', 'z']] = new_res\n",
    "    i = res_to_opt\n",
    "    dft0 = df.loc[df.resnum == i, ['x', 'y', 'z']]\n",
    "    dft1 = df.loc[df.resnum != i, ['x', 'y', 'z']]\n",
    "    d_old = euclidean_distances(dft0, dft1).min()\n",
    "    dft0 = new_df.loc[new_df.resnum == i, ['x', 'y', 'z']]\n",
    "    dft1 = new_df.loc[new_df.resnum != i, ['x', 'y', 'z']]\n",
    "    d_new = euclidean_distances(dft0, dft1).min()\n",
    "    if d_old < d_new:\n",
    "        return new_df\n",
    "    # print('FAIL')\n",
    "    return df\n",
    "\n",
    "\n",
    "df = pd.read_csv('not_opt.csv')\n",
    "\n",
    "gg = df.groupby('resnum').agg(x=('x', 'mean'), y=('y', 'mean'), z=('z', 'mean')).reset_index()\n",
    "print(len(set(gg.query('y > 135 or y < 3 or z > 135 or z < 3').resnum)))\n",
    "for j in range(5):\n",
    "    for i in tqdm(range(1, 201)):\n",
    "        if i not in set(gg.query('y > 135 or y < 3 or z > 135 or z < 3').resnum):\n",
    "            df = opt(df, i, 100)\n",
    "    df.to_csv(f'files/w_{j}.csv')"
   ]
  },
  {
   "cell_type": "code",
   "execution_count": 19,
   "id": "b11f806a",
   "metadata": {},
   "outputs": [
    {
     "data": {
      "application/vnd.jupyter.widget-view+json": {
       "model_id": "44b5dd6a4ee249968ffb139ee41e18a2",
       "version_major": 2,
       "version_minor": 0
      },
      "text/plain": [
       "  0%|          | 0/200 [00:00<?, ?it/s]"
      ]
     },
     "metadata": {},
     "output_type": "display_data"
    },
    {
     "name": "stdout",
     "output_type": "stream",
     "text": [
      "[0.18882793916944413, 0.18882793916944413, 0.2412370306657656, 0.2412370306657656, 0.25983468431142026, 0.25983468431142026, 0.27346072160575285, 0.27346072160575285, 0.28642022700228187, 0.28642022700228187]\n"
     ]
    },
    {
     "data": {
      "image/png": "[encoded data removed]",
      "text/plain": [
       "<Figure size 640x480 with 1 Axes>"
      ]
     },
     "metadata": {},
     "output_type": "display_data"
    }
   ],
   "source": [
    "system_info(df)"
   ]
  },
  {
   "cell_type": "code",
   "execution_count": 68,
   "id": "c54e1987",
   "metadata": {},
   "outputs": [],
   "source": [
    "def get_res(df, res_name):\n",
    "    res = df[df.res == res_name].copy()\n",
    "    num_atoms = res.groupby('resnum').atnum.count().iloc[0]\n",
    "    num_mols = int(res.shape[0]/num_atoms)\n",
    "    resnum = (np.ones((num_mols, num_atoms)) * np.arange(1, num_mols+1)[:, np.newaxis]).flatten()\n",
    "    res['resnum'] = resnum\n",
    "    return res.astype({'resnum': np.uint16})\n",
    "\n",
    "ama = get_res(df, 'AMA')\n",
    "mma = get_res(df, 'MMA')\n",
    "kma = get_res(df, 'KMA')\n",
    "df_ordered = pd.concat([ama, mma, kma])\n",
    "df_ordered['atnum'] = np.arange(1, df_ordered.shape[0] + 1)\n",
    "cols_order = df_ordered.columns\n",
    "df_ordered = df_ordered.rename(columns={'y': 'x', 'x': 'z', 'z': 'y'})[cols_order]\n",
    "write_pdb(df_ordered, 'Mixed_50_25_25.pdb')"
   ]
  },
  {
   "cell_type": "markdown",
   "id": "8951444b",
   "metadata": {},
   "source": [
    "### Finally we have got this:\n",
    "\n",
    "<img src=\"membrana.png\">"
   ]
  }
 ],
 "metadata": {
  "kernelspec": {
   "display_name": "Python 3.9.7 ('base')",
   "language": "python",
   "name": "python3"
  },
  "language_info": {
   "codemirror_mode": {
    "name": "ipython",
    "version": 3
   },
   "file_extension": ".py",
   "mimetype": "text/x-python",
   "name": "python",
   "nbconvert_exporter": "python",
   "pygments_lexer": "ipython3",
   "version": "3.9.7"
  },
  "vscode": {
   "interpreter": {
    "hash": "6bcd08b9d07a1bbf1ca3d2e85cf520478653b674492b433d59be3f14d722c959"
   }
  }
 },
 "nbformat": 4,
 "nbformat_minor": 5
}
