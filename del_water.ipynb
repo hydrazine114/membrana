{
 "cells": [
  {
   "cell_type": "code",
   "execution_count": 1,
   "id": "ce449eea-dc67-4dc0-be78-65fc1de6b5a4",
   "metadata": {},
   "outputs": [],
   "source": [
    "import numpy as np\n",
    "import pandas as pd\n",
    "import numpy as np\n",
    "from tqdm.auto import tqdm"
   ]
  },
  {
   "cell_type": "code",
   "execution_count": 2,
   "id": "3c85766b-6164-4e98-883f-a1d95c223f24",
   "metadata": {
    "tags": []
   },
   "outputs": [],
   "source": [
    "def write_gro(system, file='test.gro'):\n",
    "    with open(file, 'w') as file:\n",
    "        file.write(f'!comment\\n{system.shape[0]}\\n')\n",
    "        for i in tqdm(range(system.shape[0])):\n",
    "            file.write('{:5d}{:<5s}{:5s}{:5d}{:8.3f}{:8.3f}{:8.3f}\\n'\n",
    "                       .format(*system.iloc[i][['resNum', 'res', 'atom', 'atomNum', 'x', 'y', 'z']]))\n",
    "        box = system[['x', 'y', 'z']].max()\n",
    "        file.write('{} {} {}\\n'.format(*box))\n",
    "        \n",
    "with open('solvate_box.gro') as file:\n",
    "    system = []\n",
    "    for cnt, line in enumerate(file):\n",
    "        if cnt>1 and len(line.split()) > 3:\n",
    "            system.append([int(line[:5]), line[5:10].strip(), line[10:15].strip(), int(line[15:20]), float(line[20:28]), float(line[28:36]), float(line[36:44])])\n",
    "\n",
    "df = pd.DataFrame(system, columns=['resNum', 'res', 'atom', 'atomNum', 'x', 'y', 'z'])\n",
    "\n",
    "\n",
    "sol = df[df.res == 'SOL'].copy()\n",
    "system = df[df.res != 'SOL'].copy()\n",
    "\n",
    "a = (list(range(1, sol.shape[0]//3+1))*3)\n",
    "a.sort()\n",
    "a = np.array(a)\n",
    "sol['id'] = a\n",
    "\n",
    "max0 = system.x.max()\n",
    "min0 = system.x.min()\n",
    "sol_todel = sol[sol.id.isin(set(sol[sol.x.apply(lambda x: min0<x<max0)].id))]\n",
    "id_todel = sol_todel.id.unique()"
   ]
  },
  {
   "cell_type": "code",
   "execution_count": 3,
   "id": "3db5da23-5e3d-481d-9fa5-6c3f5cd9eaee",
   "metadata": {
    "tags": []
   },
   "outputs": [
    {
     "name": "stdout",
     "output_type": "stream",
     "text": [
      "I left 22216.0 mols of water.\n"
     ]
    },
    {
     "data": {
      "application/vnd.jupyter.widget-view+json": {
       "model_id": "7aba3aa136434030b58eff5245c67939",
       "version_major": 2,
       "version_minor": 0
      },
      "text/plain": [
       "  0%|          | 0/89482 [00:00<?, ?it/s]"
      ]
     },
     "metadata": {},
     "output_type": "display_data"
    }
   ],
   "source": [
    "np.random.shuffle(id_todel)\n",
    "n = int(id_todel.shape[0]*0.7)\n",
    "\n",
    "sol = sol[~sol.id.isin(id_todel[:n])]\n",
    "\n",
    "df = pd.concat([system, sol])\n",
    "\n",
    "n = int(df.shape[0]/100000)+1 \n",
    "numAt = np.arange(1, 100_000)\n",
    "numAt = np.concatenate([numAt]*n)[:df.shape[0]]\n",
    "df['atomNum'] = numAt\n",
    "print(f'I left {sol.shape[0]/3} mols of water.')\n",
    "write_gro(df, 'del_wat.gro')"
   ]
  }
 ],
 "metadata": {
  "kernelspec": {
   "display_name": "Python 3.9.7 ('base')",
   "language": "python",
   "name": "python3"
  },
  "language_info": {
   "codemirror_mode": {
    "name": "ipython",
    "version": 3
   },
   "file_extension": ".py",
   "mimetype": "text/x-python",
   "name": "python",
   "nbconvert_exporter": "python",
   "pygments_lexer": "ipython3",
   "version": "3.9.7"
  },
  "vscode": {
   "interpreter": {
    "hash": "6bcd08b9d07a1bbf1ca3d2e85cf520478653b674492b433d59be3f14d722c959"
   }
  }
 },
 "nbformat": 4,
 "nbformat_minor": 5
}
